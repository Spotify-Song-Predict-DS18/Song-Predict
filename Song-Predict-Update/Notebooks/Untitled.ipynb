{
 "cells": [
  {
   "cell_type": "code",
   "execution_count": 1,
   "metadata": {},
   "outputs": [],
   "source": [
    "# A new notebook to test the waters of the Spotify API\n",
    "# TODO: Gain access to the Spotify API\n",
    "# TODO: Be able to access my liked music with the Spotify API. "
   ]
  },
  {
   "cell_type": "code",
   "execution_count": 11,
   "metadata": {},
   "outputs": [],
   "source": [
    "import spotipy\n",
    "from spotipy.oauth2 import SpotifyClientCredentials, SpotifyOAuth\n",
    "\n",
    "SPOTIPY_CLIENT_ID = '305996eeec9c42cb807aebcd48a82b29'\n",
    "SPOTIPY_SECRET_ID = '3699864be2834ad695827d8092e91812'\n",
    "SPOTIPY_REDIRECT_URI = 'http://example.com'"
   ]
  },
  {
   "cell_type": "code",
   "execution_count": null,
   "metadata": {},
   "outputs": [
    {
     "name": "stderr",
     "output_type": "stream",
     "text": [
      "Couldn't read cache at: .cache\n"
     ]
    }
   ],
   "source": [
    "# doing a test run with an authorization code flow\n",
    "# Goal is to be able to get a scope that will read the user's libary. \n",
    "\n",
    "scope = \"user -libary-read\"\n",
    "\n",
    "sp = spotipy.Spotify(auth_manager=SpotifyOAuth(scope=scope, \n",
    "                                               client_secret=SPOTIPY_SECRET_ID, \n",
    "                                               client_id=SPOTIPY_CLIENT_ID, \n",
    "                                               redirect_uri=SPOTIPY_REDIRECT_URI))\n",
    "\n",
    "results = sp.current_user_saved_tracks()\n",
    "for idx, item in enumerate(results['items']):\n",
    "    track = item['track']\n",
    "    print(idx, track['artists'][0]['name'], \" - \", track['name'])"
   ]
  },
  {
   "cell_type": "code",
   "execution_count": null,
   "metadata": {},
   "outputs": [],
   "source": []
  }
 ],
 "metadata": {
  "kernelspec": {
   "display_name": "Python 3",
   "language": "python",
   "name": "python3"
  },
  "language_info": {
   "codemirror_mode": {
    "name": "ipython",
    "version": 3
   },
   "file_extension": ".py",
   "mimetype": "text/x-python",
   "name": "python",
   "nbconvert_exporter": "python",
   "pygments_lexer": "ipython3",
   "version": "3.7.9"
  }
 },
 "nbformat": 4,
 "nbformat_minor": 4
}
